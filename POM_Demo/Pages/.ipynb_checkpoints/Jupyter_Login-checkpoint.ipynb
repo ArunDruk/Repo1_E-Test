{
 "cells": [
  {
   "cell_type": "code",
   "execution_count": 5,
   "metadata": {},
   "outputs": [],
   "source": [
    "from loginpage import LoginPage\n",
    "\n",
    "from homepage import HomePage\n",
    "import  utils\n",
    "import pytest"
   ]
  },
  {
   "cell_type": "code",
   "execution_count": null,
   "metadata": {},
   "outputs": [],
   "source": [
    "class TestLogin():\n",
    "\n",
    "    def test_login(self):\n",
    "        driver = self.driver\n",
    "        driver.get(utils.URL)\n",
    "\n",
    "        login = LoginPage(driver)\n",
    "        login.enter_username(utils.USERNAME)\n",
    "        login.enter_password(utils.PASSWORD)\n",
    "        login.click_login()\n",
    "\n",
    "    def test_logout(self):\n",
    "        try:\n",
    "            driver = self.driver\n",
    "            homepage = HomePage(driver)\n",
    "            homepage.click_welcome()\n",
    "            homepage.click_logout()\n",
    "            x = driver.title\n",
    "            assert x == \"OrangeHRM\"\n",
    "        except:\n",
    "            print(\"Some Exception Happened\")"
   ]
  },
  {
   "cell_type": "code",
   "execution_count": null,
   "metadata": {},
   "outputs": [],
   "source": []
  }
 ],
 "metadata": {
  "kernelspec": {
   "display_name": "Python 3",
   "language": "python",
   "name": "python3"
  },
  "language_info": {
   "codemirror_mode": {
    "name": "ipython",
    "version": 3
   },
   "file_extension": ".py",
   "mimetype": "text/x-python",
   "name": "python",
   "nbconvert_exporter": "python",
   "pygments_lexer": "ipython3",
   "version": "3.7.5"
  }
 },
 "nbformat": 4,
 "nbformat_minor": 2
}
